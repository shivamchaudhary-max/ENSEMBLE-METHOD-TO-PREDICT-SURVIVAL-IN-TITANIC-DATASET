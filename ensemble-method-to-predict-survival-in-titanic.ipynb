{
 "cells": [
  {
   "cell_type": "code",
   "execution_count": 1,
   "id": "27aa689d",
   "metadata": {
    "execution": {
     "iopub.execute_input": "2022-01-21T15:45:04.545040Z",
     "iopub.status.busy": "2022-01-21T15:45:04.543911Z",
     "iopub.status.idle": "2022-01-21T15:45:04.550519Z",
     "shell.execute_reply": "2022-01-21T15:45:04.551037Z",
     "shell.execute_reply.started": "2022-01-21T15:01:27.508392Z"
    },
    "papermill": {
     "duration": 0.034801,
     "end_time": "2022-01-21T15:45:04.551338",
     "exception": false,
     "start_time": "2022-01-21T15:45:04.516537",
     "status": "completed"
    },
    "tags": []
   },
   "outputs": [],
   "source": [
    "import pandas as pd"
   ]
  },
  {
   "cell_type": "code",
   "execution_count": 2,
   "id": "6fe45d63",
   "metadata": {
    "execution": {
     "iopub.execute_input": "2022-01-21T15:45:04.593626Z",
     "iopub.status.busy": "2022-01-21T15:45:04.593003Z",
     "iopub.status.idle": "2022-01-21T15:45:04.617389Z",
     "shell.execute_reply": "2022-01-21T15:45:04.616775Z",
     "shell.execute_reply.started": "2022-01-21T15:02:03.609875Z"
    },
    "papermill": {
     "duration": 0.046109,
     "end_time": "2022-01-21T15:45:04.617532",
     "exception": false,
     "start_time": "2022-01-21T15:45:04.571423",
     "status": "completed"
    },
    "tags": []
   },
   "outputs": [],
   "source": [
    "titanic=pd.read_csv('../input/titanic-dataset/Titanic.csv')"
   ]
  },
  {
   "cell_type": "code",
   "execution_count": 3,
   "id": "637425d2",
   "metadata": {
    "execution": {
     "iopub.execute_input": "2022-01-21T15:45:04.661420Z",
     "iopub.status.busy": "2022-01-21T15:45:04.660725Z",
     "iopub.status.idle": "2022-01-21T15:45:04.682807Z",
     "shell.execute_reply": "2022-01-21T15:45:04.683258Z",
     "shell.execute_reply.started": "2022-01-21T15:02:14.605774Z"
    },
    "papermill": {
     "duration": 0.045049,
     "end_time": "2022-01-21T15:45:04.683422",
     "exception": false,
     "start_time": "2022-01-21T15:45:04.638373",
     "status": "completed"
    },
    "tags": []
   },
   "outputs": [
    {
     "data": {
      "text/html": [
       "<div>\n",
       "<style scoped>\n",
       "    .dataframe tbody tr th:only-of-type {\n",
       "        vertical-align: middle;\n",
       "    }\n",
       "\n",
       "    .dataframe tbody tr th {\n",
       "        vertical-align: top;\n",
       "    }\n",
       "\n",
       "    .dataframe thead th {\n",
       "        text-align: right;\n",
       "    }\n",
       "</style>\n",
       "<table border=\"1\" class=\"dataframe\">\n",
       "  <thead>\n",
       "    <tr style=\"text-align: right;\">\n",
       "      <th></th>\n",
       "      <th>PassengerId</th>\n",
       "      <th>Survived</th>\n",
       "      <th>Pclass</th>\n",
       "      <th>Name</th>\n",
       "      <th>Sex</th>\n",
       "      <th>Age</th>\n",
       "      <th>SibSp</th>\n",
       "      <th>Parch</th>\n",
       "      <th>Ticket</th>\n",
       "      <th>Fare</th>\n",
       "      <th>Cabin</th>\n",
       "      <th>Embarked</th>\n",
       "    </tr>\n",
       "  </thead>\n",
       "  <tbody>\n",
       "    <tr>\n",
       "      <th>0</th>\n",
       "      <td>1</td>\n",
       "      <td>0</td>\n",
       "      <td>3</td>\n",
       "      <td>Braund, Mr. Owen Harris</td>\n",
       "      <td>male</td>\n",
       "      <td>22.0</td>\n",
       "      <td>1</td>\n",
       "      <td>0</td>\n",
       "      <td>A/5 21171</td>\n",
       "      <td>7.2500</td>\n",
       "      <td>NaN</td>\n",
       "      <td>S</td>\n",
       "    </tr>\n",
       "    <tr>\n",
       "      <th>1</th>\n",
       "      <td>2</td>\n",
       "      <td>1</td>\n",
       "      <td>1</td>\n",
       "      <td>Cumings, Mrs. John Bradley (Florence Briggs Th...</td>\n",
       "      <td>female</td>\n",
       "      <td>38.0</td>\n",
       "      <td>1</td>\n",
       "      <td>0</td>\n",
       "      <td>PC 17599</td>\n",
       "      <td>71.2833</td>\n",
       "      <td>C85</td>\n",
       "      <td>C</td>\n",
       "    </tr>\n",
       "    <tr>\n",
       "      <th>2</th>\n",
       "      <td>3</td>\n",
       "      <td>1</td>\n",
       "      <td>3</td>\n",
       "      <td>Heikkinen, Miss. Laina</td>\n",
       "      <td>female</td>\n",
       "      <td>26.0</td>\n",
       "      <td>0</td>\n",
       "      <td>0</td>\n",
       "      <td>STON/O2. 3101282</td>\n",
       "      <td>7.9250</td>\n",
       "      <td>NaN</td>\n",
       "      <td>S</td>\n",
       "    </tr>\n",
       "    <tr>\n",
       "      <th>3</th>\n",
       "      <td>4</td>\n",
       "      <td>1</td>\n",
       "      <td>1</td>\n",
       "      <td>Futrelle, Mrs. Jacques Heath (Lily May Peel)</td>\n",
       "      <td>female</td>\n",
       "      <td>35.0</td>\n",
       "      <td>1</td>\n",
       "      <td>0</td>\n",
       "      <td>113803</td>\n",
       "      <td>53.1000</td>\n",
       "      <td>C123</td>\n",
       "      <td>S</td>\n",
       "    </tr>\n",
       "    <tr>\n",
       "      <th>4</th>\n",
       "      <td>5</td>\n",
       "      <td>0</td>\n",
       "      <td>3</td>\n",
       "      <td>Allen, Mr. William Henry</td>\n",
       "      <td>male</td>\n",
       "      <td>35.0</td>\n",
       "      <td>0</td>\n",
       "      <td>0</td>\n",
       "      <td>373450</td>\n",
       "      <td>8.0500</td>\n",
       "      <td>NaN</td>\n",
       "      <td>S</td>\n",
       "    </tr>\n",
       "  </tbody>\n",
       "</table>\n",
       "</div>"
      ],
      "text/plain": [
       "   PassengerId  Survived  Pclass  \\\n",
       "0            1         0       3   \n",
       "1            2         1       1   \n",
       "2            3         1       3   \n",
       "3            4         1       1   \n",
       "4            5         0       3   \n",
       "\n",
       "                                                Name     Sex   Age  SibSp  \\\n",
       "0                            Braund, Mr. Owen Harris    male  22.0      1   \n",
       "1  Cumings, Mrs. John Bradley (Florence Briggs Th...  female  38.0      1   \n",
       "2                             Heikkinen, Miss. Laina  female  26.0      0   \n",
       "3       Futrelle, Mrs. Jacques Heath (Lily May Peel)  female  35.0      1   \n",
       "4                           Allen, Mr. William Henry    male  35.0      0   \n",
       "\n",
       "   Parch            Ticket     Fare Cabin Embarked  \n",
       "0      0         A/5 21171   7.2500   NaN        S  \n",
       "1      0          PC 17599  71.2833   C85        C  \n",
       "2      0  STON/O2. 3101282   7.9250   NaN        S  \n",
       "3      0            113803  53.1000  C123        S  \n",
       "4      0            373450   8.0500   NaN        S  "
      ]
     },
     "execution_count": 3,
     "metadata": {},
     "output_type": "execute_result"
    }
   ],
   "source": [
    "titanic.head()"
   ]
  },
  {
   "cell_type": "code",
   "execution_count": 4,
   "id": "4dc59727",
   "metadata": {
    "execution": {
     "iopub.execute_input": "2022-01-21T15:45:04.733572Z",
     "iopub.status.busy": "2022-01-21T15:45:04.732959Z",
     "iopub.status.idle": "2022-01-21T15:45:04.736099Z",
     "shell.execute_reply": "2022-01-21T15:45:04.736634Z",
     "shell.execute_reply.started": "2022-01-21T15:02:27.337346Z"
    },
    "papermill": {
     "duration": 0.033309,
     "end_time": "2022-01-21T15:45:04.736831",
     "exception": false,
     "start_time": "2022-01-21T15:45:04.703522",
     "status": "completed"
    },
    "tags": []
   },
   "outputs": [],
   "source": [
    "titanic['FamilySize'] = titanic['SibSp'] + titanic['Parch'] + 1"
   ]
  },
  {
   "cell_type": "code",
   "execution_count": 5,
   "id": "92951896",
   "metadata": {
    "execution": {
     "iopub.execute_input": "2022-01-21T15:45:04.781644Z",
     "iopub.status.busy": "2022-01-21T15:45:04.781028Z",
     "iopub.status.idle": "2022-01-21T15:45:04.803350Z",
     "shell.execute_reply": "2022-01-21T15:45:04.803985Z",
     "shell.execute_reply.started": "2022-01-21T15:02:41.334077Z"
    },
    "papermill": {
     "duration": 0.045365,
     "end_time": "2022-01-21T15:45:04.804193",
     "exception": false,
     "start_time": "2022-01-21T15:45:04.758828",
     "status": "completed"
    },
    "tags": []
   },
   "outputs": [
    {
     "name": "stdout",
     "output_type": "stream",
     "text": [
      "<class 'pandas.core.frame.DataFrame'>\n",
      "RangeIndex: 156 entries, 0 to 155\n",
      "Data columns (total 13 columns):\n",
      " #   Column       Non-Null Count  Dtype  \n",
      "---  ------       --------------  -----  \n",
      " 0   PassengerId  156 non-null    int64  \n",
      " 1   Survived     156 non-null    int64  \n",
      " 2   Pclass       156 non-null    int64  \n",
      " 3   Name         156 non-null    object \n",
      " 4   Sex          156 non-null    object \n",
      " 5   Age          126 non-null    float64\n",
      " 6   SibSp        156 non-null    int64  \n",
      " 7   Parch        156 non-null    int64  \n",
      " 8   Ticket       156 non-null    object \n",
      " 9   Fare         156 non-null    float64\n",
      " 10  Cabin        31 non-null     object \n",
      " 11  Embarked     155 non-null    object \n",
      " 12  FamilySize   156 non-null    int64  \n",
      "dtypes: float64(2), int64(6), object(5)\n",
      "memory usage: 16.0+ KB\n"
     ]
    }
   ],
   "source": [
    "titanic.info()"
   ]
  },
  {
   "cell_type": "code",
   "execution_count": 6,
   "id": "8d7d05ca",
   "metadata": {
    "execution": {
     "iopub.execute_input": "2022-01-21T15:45:04.850472Z",
     "iopub.status.busy": "2022-01-21T15:45:04.849768Z",
     "iopub.status.idle": "2022-01-21T15:45:04.856249Z",
     "shell.execute_reply": "2022-01-21T15:45:04.856721Z",
     "shell.execute_reply.started": "2022-01-21T15:02:59.977888Z"
    },
    "papermill": {
     "duration": 0.031692,
     "end_time": "2022-01-21T15:45:04.856913",
     "exception": false,
     "start_time": "2022-01-21T15:45:04.825221",
     "status": "completed"
    },
    "tags": []
   },
   "outputs": [],
   "source": [
    "titanic = titanic.drop(columns=['Ticket', 'PassengerId', 'Cabin'])"
   ]
  },
  {
   "cell_type": "code",
   "execution_count": 7,
   "id": "b1e5e118",
   "metadata": {
    "execution": {
     "iopub.execute_input": "2022-01-21T15:45:04.907984Z",
     "iopub.status.busy": "2022-01-21T15:45:04.907322Z",
     "iopub.status.idle": "2022-01-21T15:45:04.919021Z",
     "shell.execute_reply": "2022-01-21T15:45:04.918435Z",
     "shell.execute_reply.started": "2022-01-21T15:03:08.703889Z"
    },
    "papermill": {
     "duration": 0.039609,
     "end_time": "2022-01-21T15:45:04.919187",
     "exception": false,
     "start_time": "2022-01-21T15:45:04.879578",
     "status": "completed"
    },
    "tags": []
   },
   "outputs": [
    {
     "data": {
      "text/html": [
       "<div>\n",
       "<style scoped>\n",
       "    .dataframe tbody tr th:only-of-type {\n",
       "        vertical-align: middle;\n",
       "    }\n",
       "\n",
       "    .dataframe tbody tr th {\n",
       "        vertical-align: top;\n",
       "    }\n",
       "\n",
       "    .dataframe thead th {\n",
       "        text-align: right;\n",
       "    }\n",
       "</style>\n",
       "<table border=\"1\" class=\"dataframe\">\n",
       "  <thead>\n",
       "    <tr style=\"text-align: right;\">\n",
       "      <th></th>\n",
       "      <th>Survived</th>\n",
       "      <th>Pclass</th>\n",
       "      <th>Name</th>\n",
       "      <th>Sex</th>\n",
       "      <th>Age</th>\n",
       "      <th>SibSp</th>\n",
       "      <th>Parch</th>\n",
       "      <th>Fare</th>\n",
       "      <th>Embarked</th>\n",
       "      <th>FamilySize</th>\n",
       "    </tr>\n",
       "  </thead>\n",
       "  <tbody>\n",
       "    <tr>\n",
       "      <th>0</th>\n",
       "      <td>0</td>\n",
       "      <td>3</td>\n",
       "      <td>Braund, Mr. Owen Harris</td>\n",
       "      <td>male</td>\n",
       "      <td>22.0</td>\n",
       "      <td>1</td>\n",
       "      <td>0</td>\n",
       "      <td>7.2500</td>\n",
       "      <td>S</td>\n",
       "      <td>2</td>\n",
       "    </tr>\n",
       "    <tr>\n",
       "      <th>1</th>\n",
       "      <td>1</td>\n",
       "      <td>1</td>\n",
       "      <td>Cumings, Mrs. John Bradley (Florence Briggs Th...</td>\n",
       "      <td>female</td>\n",
       "      <td>38.0</td>\n",
       "      <td>1</td>\n",
       "      <td>0</td>\n",
       "      <td>71.2833</td>\n",
       "      <td>C</td>\n",
       "      <td>2</td>\n",
       "    </tr>\n",
       "    <tr>\n",
       "      <th>2</th>\n",
       "      <td>1</td>\n",
       "      <td>3</td>\n",
       "      <td>Heikkinen, Miss. Laina</td>\n",
       "      <td>female</td>\n",
       "      <td>26.0</td>\n",
       "      <td>0</td>\n",
       "      <td>0</td>\n",
       "      <td>7.9250</td>\n",
       "      <td>S</td>\n",
       "      <td>1</td>\n",
       "    </tr>\n",
       "  </tbody>\n",
       "</table>\n",
       "</div>"
      ],
      "text/plain": [
       "   Survived  Pclass                                               Name  \\\n",
       "0         0       3                            Braund, Mr. Owen Harris   \n",
       "1         1       1  Cumings, Mrs. John Bradley (Florence Briggs Th...   \n",
       "2         1       3                             Heikkinen, Miss. Laina   \n",
       "\n",
       "      Sex   Age  SibSp  Parch     Fare Embarked  FamilySize  \n",
       "0    male  22.0      1      0   7.2500        S           2  \n",
       "1  female  38.0      1      0  71.2833        C           2  \n",
       "2  female  26.0      0      0   7.9250        S           1  "
      ]
     },
     "execution_count": 7,
     "metadata": {},
     "output_type": "execute_result"
    }
   ],
   "source": [
    "titanic.head(3)"
   ]
  },
  {
   "cell_type": "code",
   "execution_count": 8,
   "id": "f8684d31",
   "metadata": {
    "execution": {
     "iopub.execute_input": "2022-01-21T15:45:04.968443Z",
     "iopub.status.busy": "2022-01-21T15:45:04.967754Z",
     "iopub.status.idle": "2022-01-21T15:45:04.974512Z",
     "shell.execute_reply": "2022-01-21T15:45:04.975027Z",
     "shell.execute_reply.started": "2022-01-21T15:03:21.174328Z"
    },
    "papermill": {
     "duration": 0.034647,
     "end_time": "2022-01-21T15:45:04.975207",
     "exception": false,
     "start_time": "2022-01-21T15:45:04.940560",
     "status": "completed"
    },
    "tags": []
   },
   "outputs": [],
   "source": [
    "titanic['Sex'] = titanic['Sex'].map({'male':0, 'female':1})\n",
    "titanic['Embarked'] = titanic['Embarked'].map({'C':0, 'Q':1, 'S':2})"
   ]
  },
  {
   "cell_type": "code",
   "execution_count": 9,
   "id": "d2cfed54",
   "metadata": {
    "execution": {
     "iopub.execute_input": "2022-01-21T15:45:05.027937Z",
     "iopub.status.busy": "2022-01-21T15:45:05.027145Z",
     "iopub.status.idle": "2022-01-21T15:45:05.037240Z",
     "shell.execute_reply": "2022-01-21T15:45:05.037880Z",
     "shell.execute_reply.started": "2022-01-21T15:03:30.004297Z"
    },
    "papermill": {
     "duration": 0.039,
     "end_time": "2022-01-21T15:45:05.038075",
     "exception": false,
     "start_time": "2022-01-21T15:45:04.999075",
     "status": "completed"
    },
    "tags": []
   },
   "outputs": [
    {
     "data": {
      "text/plain": [
       "0        Mr\n",
       "1       Mrs\n",
       "2      Miss\n",
       "3       Mrs\n",
       "4        Mr\n",
       "       ... \n",
       "151     Mrs\n",
       "152      Mr\n",
       "153      Mr\n",
       "154      Mr\n",
       "155      Mr\n",
       "Name: Title, Length: 156, dtype: object"
      ]
     },
     "execution_count": 9,
     "metadata": {},
     "output_type": "execute_result"
    }
   ],
   "source": [
    "titanic['Title'] = titanic['Name'].str.extract(' ([A-Za-z]+)\\.', expand=False) #'expand=True, returns a dataframe'\n",
    "titanic= titanic.drop(columns='Name')\n",
    "titanic['Title']"
   ]
  },
  {
   "cell_type": "code",
   "execution_count": 10,
   "id": "c64b5032",
   "metadata": {
    "execution": {
     "iopub.execute_input": "2022-01-21T15:45:05.084722Z",
     "iopub.status.busy": "2022-01-21T15:45:05.084090Z",
     "iopub.status.idle": "2022-01-21T15:45:05.089275Z",
     "shell.execute_reply": "2022-01-21T15:45:05.089822Z",
     "shell.execute_reply.started": "2022-01-21T15:03:43.185972Z"
    },
    "papermill": {
     "duration": 0.030579,
     "end_time": "2022-01-21T15:45:05.090007",
     "exception": false,
     "start_time": "2022-01-21T15:45:05.059428",
     "status": "completed"
    },
    "tags": []
   },
   "outputs": [
    {
     "data": {
      "text/plain": [
       "array(['Mr', 'Mrs', 'Miss', 'Mrs', 'Mr', 'Mr', 'Mr', 'Master', 'Mrs',\n",
       "       'Mrs', 'Miss', 'Miss', 'Mr', 'Mr', 'Miss', 'Mrs', 'Master', 'Mr',\n",
       "       'Mrs', 'Mrs', 'Mr', 'Mr', 'Miss', 'Mr', 'Miss', 'Mrs', 'Mr', 'Mr',\n",
       "       'Miss', 'Mr', 'Don', 'Mrs', 'Miss', 'Mr', 'Mr', 'Mr', 'Mr', 'Mr',\n",
       "       'Miss', 'Miss', 'Mrs', 'Mrs', 'Mr', 'Miss', 'Miss', 'Mr', 'Mr',\n",
       "       'Miss', 'Mr', 'Mrs', 'Master', 'Mr', 'Mrs', 'Mrs', 'Mr', 'Mr',\n",
       "       'Miss', 'Mr', 'Miss', 'Master', 'Mr', 'Miss', 'Mr', 'Master', 'Mr',\n",
       "       'Master', 'Mrs', 'Mr', 'Miss', 'Mr', 'Mr', 'Miss', 'Mr', 'Mr',\n",
       "       'Mr', 'Mr', 'Mr', 'Mr', 'Master', 'Miss', 'Mr', 'Mr', 'Miss', 'Mr',\n",
       "       'Miss', 'Mrs', 'Mr', 'Mr', 'Miss', 'Mr', 'Mr', 'Mr', 'Mr', 'Mr',\n",
       "       'Mr', 'Mr', 'Mr', 'Mr', 'Mrs', 'Mr', 'Miss', 'Mr', 'Mr', 'Mr',\n",
       "       'Mr', 'Mr', 'Miss', 'Mr', 'Mr', 'Miss', 'Mr', 'Miss', 'Mr', 'Miss',\n",
       "       'Miss', 'Mr', 'Mr', 'Mr', 'Mr', 'Miss', 'Mr', 'Mr', 'Mr', 'Miss',\n",
       "       'Mr', 'Master', 'Mr', 'Mr', 'Miss', 'Mr', 'Mr', 'Mr', 'Mrs', 'Mrs',\n",
       "       'Mr', 'Mr', 'Miss', 'Mr', 'Mr', 'Mr', 'Mrs', 'Miss', 'Mrs', 'Mr',\n",
       "       'Mr', 'Mr', 'Mr', 'Miss', 'Mr', 'Rev', 'Rev', 'Mrs', 'Mr', 'Mr',\n",
       "       'Mr', 'Mr'], dtype=object)"
      ]
     },
     "execution_count": 10,
     "metadata": {},
     "output_type": "execute_result"
    }
   ],
   "source": [
    "titanic.Title.values"
   ]
  },
  {
   "cell_type": "code",
   "execution_count": 11,
   "id": "a754033a",
   "metadata": {
    "execution": {
     "iopub.execute_input": "2022-01-21T15:45:05.140338Z",
     "iopub.status.busy": "2022-01-21T15:45:05.139381Z",
     "iopub.status.idle": "2022-01-21T15:45:05.148534Z",
     "shell.execute_reply": "2022-01-21T15:45:05.149126Z",
     "shell.execute_reply.started": "2022-01-21T15:03:55.490073Z"
    },
    "papermill": {
     "duration": 0.035528,
     "end_time": "2022-01-21T15:45:05.149350",
     "exception": false,
     "start_time": "2022-01-21T15:45:05.113822",
     "status": "completed"
    },
    "tags": []
   },
   "outputs": [
    {
     "name": "stdout",
     "output_type": "stream",
     "text": [
      "0        Mr\n",
      "1       Mrs\n",
      "2      Miss\n",
      "3       Mrs\n",
      "4        Mr\n",
      "       ... \n",
      "151     Mrs\n",
      "152      Mr\n",
      "153      Mr\n",
      "154      Mr\n",
      "155      Mr\n",
      "Name: Title, Length: 156, dtype: object\n"
     ]
    }
   ],
   "source": [
    "titanic['Title'] = titanic['Title'].replace(['Rev', 'Don'], 'Others')\n",
    "print(titanic['Title'])"
   ]
  },
  {
   "cell_type": "code",
   "execution_count": 12,
   "id": "f85240e6",
   "metadata": {
    "execution": {
     "iopub.execute_input": "2022-01-21T15:45:05.197899Z",
     "iopub.status.busy": "2022-01-21T15:45:05.197260Z",
     "iopub.status.idle": "2022-01-21T15:45:05.203706Z",
     "shell.execute_reply": "2022-01-21T15:45:05.204326Z",
     "shell.execute_reply.started": "2022-01-21T15:04:07.173696Z"
    },
    "papermill": {
     "duration": 0.03135,
     "end_time": "2022-01-21T15:45:05.204511",
     "exception": false,
     "start_time": "2022-01-21T15:45:05.173161",
     "status": "completed"
    },
    "tags": []
   },
   "outputs": [],
   "source": [
    "titanic['Title'] = titanic['Title'].map({'Mr':1, 'Mrs':2 ,'Others':3 ,'Master':4 ,'Miss':5 })"
   ]
  },
  {
   "cell_type": "code",
   "execution_count": 13,
   "id": "8277b85c",
   "metadata": {
    "execution": {
     "iopub.execute_input": "2022-01-21T15:45:05.254416Z",
     "iopub.status.busy": "2022-01-21T15:45:05.252931Z",
     "iopub.status.idle": "2022-01-21T15:45:05.265428Z",
     "shell.execute_reply": "2022-01-21T15:45:05.266028Z",
     "shell.execute_reply.started": "2022-01-21T15:04:17.404211Z"
    },
    "papermill": {
     "duration": 0.039691,
     "end_time": "2022-01-21T15:45:05.266220",
     "exception": false,
     "start_time": "2022-01-21T15:45:05.226529",
     "status": "completed"
    },
    "tags": []
   },
   "outputs": [
    {
     "data": {
      "text/html": [
       "<div>\n",
       "<style scoped>\n",
       "    .dataframe tbody tr th:only-of-type {\n",
       "        vertical-align: middle;\n",
       "    }\n",
       "\n",
       "    .dataframe tbody tr th {\n",
       "        vertical-align: top;\n",
       "    }\n",
       "\n",
       "    .dataframe thead th {\n",
       "        text-align: right;\n",
       "    }\n",
       "</style>\n",
       "<table border=\"1\" class=\"dataframe\">\n",
       "  <thead>\n",
       "    <tr style=\"text-align: right;\">\n",
       "      <th></th>\n",
       "      <th>Survived</th>\n",
       "      <th>Pclass</th>\n",
       "      <th>Sex</th>\n",
       "      <th>Age</th>\n",
       "      <th>SibSp</th>\n",
       "      <th>Parch</th>\n",
       "      <th>Fare</th>\n",
       "      <th>Embarked</th>\n",
       "      <th>FamilySize</th>\n",
       "      <th>Title</th>\n",
       "    </tr>\n",
       "  </thead>\n",
       "  <tbody>\n",
       "    <tr>\n",
       "      <th>0</th>\n",
       "      <td>0</td>\n",
       "      <td>3</td>\n",
       "      <td>0</td>\n",
       "      <td>22.0</td>\n",
       "      <td>1</td>\n",
       "      <td>0</td>\n",
       "      <td>7.2500</td>\n",
       "      <td>2.0</td>\n",
       "      <td>2</td>\n",
       "      <td>1</td>\n",
       "    </tr>\n",
       "    <tr>\n",
       "      <th>1</th>\n",
       "      <td>1</td>\n",
       "      <td>1</td>\n",
       "      <td>1</td>\n",
       "      <td>38.0</td>\n",
       "      <td>1</td>\n",
       "      <td>0</td>\n",
       "      <td>71.2833</td>\n",
       "      <td>0.0</td>\n",
       "      <td>2</td>\n",
       "      <td>2</td>\n",
       "    </tr>\n",
       "    <tr>\n",
       "      <th>2</th>\n",
       "      <td>1</td>\n",
       "      <td>3</td>\n",
       "      <td>1</td>\n",
       "      <td>26.0</td>\n",
       "      <td>0</td>\n",
       "      <td>0</td>\n",
       "      <td>7.9250</td>\n",
       "      <td>2.0</td>\n",
       "      <td>1</td>\n",
       "      <td>5</td>\n",
       "    </tr>\n",
       "    <tr>\n",
       "      <th>3</th>\n",
       "      <td>1</td>\n",
       "      <td>1</td>\n",
       "      <td>1</td>\n",
       "      <td>35.0</td>\n",
       "      <td>1</td>\n",
       "      <td>0</td>\n",
       "      <td>53.1000</td>\n",
       "      <td>2.0</td>\n",
       "      <td>2</td>\n",
       "      <td>2</td>\n",
       "    </tr>\n",
       "    <tr>\n",
       "      <th>4</th>\n",
       "      <td>0</td>\n",
       "      <td>3</td>\n",
       "      <td>0</td>\n",
       "      <td>35.0</td>\n",
       "      <td>0</td>\n",
       "      <td>0</td>\n",
       "      <td>8.0500</td>\n",
       "      <td>2.0</td>\n",
       "      <td>1</td>\n",
       "      <td>1</td>\n",
       "    </tr>\n",
       "  </tbody>\n",
       "</table>\n",
       "</div>"
      ],
      "text/plain": [
       "   Survived  Pclass  Sex   Age  SibSp  Parch     Fare  Embarked  FamilySize  \\\n",
       "0         0       3    0  22.0      1      0   7.2500       2.0           2   \n",
       "1         1       1    1  38.0      1      0  71.2833       0.0           2   \n",
       "2         1       3    1  26.0      0      0   7.9250       2.0           1   \n",
       "3         1       1    1  35.0      1      0  53.1000       2.0           2   \n",
       "4         0       3    0  35.0      0      0   8.0500       2.0           1   \n",
       "\n",
       "   Title  \n",
       "0      1  \n",
       "1      2  \n",
       "2      5  \n",
       "3      2  \n",
       "4      1  "
      ]
     },
     "execution_count": 13,
     "metadata": {},
     "output_type": "execute_result"
    }
   ],
   "source": [
    "titanic.head()"
   ]
  },
  {
   "cell_type": "code",
   "execution_count": 14,
   "id": "e572caff",
   "metadata": {
    "execution": {
     "iopub.execute_input": "2022-01-21T15:45:05.317852Z",
     "iopub.status.busy": "2022-01-21T15:45:05.317223Z",
     "iopub.status.idle": "2022-01-21T15:45:05.324441Z",
     "shell.execute_reply": "2022-01-21T15:45:05.324949Z",
     "shell.execute_reply.started": "2022-01-21T15:04:32.673541Z"
    },
    "papermill": {
     "duration": 0.035609,
     "end_time": "2022-01-21T15:45:05.325128",
     "exception": false,
     "start_time": "2022-01-21T15:45:05.289519",
     "status": "completed"
    },
    "tags": []
   },
   "outputs": [
    {
     "data": {
      "text/plain": [
       "Survived       0\n",
       "Pclass         0\n",
       "Sex            0\n",
       "Age           30\n",
       "SibSp          0\n",
       "Parch          0\n",
       "Fare           0\n",
       "Embarked       1\n",
       "FamilySize     0\n",
       "Title          0\n",
       "dtype: int64"
      ]
     },
     "execution_count": 14,
     "metadata": {},
     "output_type": "execute_result"
    }
   ],
   "source": [
    "titanic.isnull().sum()"
   ]
  },
  {
   "cell_type": "code",
   "execution_count": 15,
   "id": "4dc7145c",
   "metadata": {
    "execution": {
     "iopub.execute_input": "2022-01-21T15:45:05.375910Z",
     "iopub.status.busy": "2022-01-21T15:45:05.375181Z",
     "iopub.status.idle": "2022-01-21T15:45:05.387724Z",
     "shell.execute_reply": "2022-01-21T15:45:05.388242Z",
     "shell.execute_reply.started": "2022-01-21T15:09:26.74732Z"
    },
    "papermill": {
     "duration": 0.038687,
     "end_time": "2022-01-21T15:45:05.388446",
     "exception": false,
     "start_time": "2022-01-21T15:45:05.349759",
     "status": "completed"
    },
    "tags": []
   },
   "outputs": [
    {
     "name": "stdout",
     "output_type": "stream",
     "text": [
      "<class 'pandas.core.frame.DataFrame'>\n",
      "RangeIndex: 156 entries, 0 to 155\n",
      "Data columns (total 10 columns):\n",
      " #   Column      Non-Null Count  Dtype  \n",
      "---  ------      --------------  -----  \n",
      " 0   Survived    156 non-null    int64  \n",
      " 1   Pclass      156 non-null    int64  \n",
      " 2   Sex         156 non-null    int64  \n",
      " 3   Age         126 non-null    float64\n",
      " 4   SibSp       156 non-null    int64  \n",
      " 5   Parch       156 non-null    int64  \n",
      " 6   Fare        156 non-null    float64\n",
      " 7   Embarked    156 non-null    float64\n",
      " 8   FamilySize  156 non-null    int64  \n",
      " 9   Title       156 non-null    int64  \n",
      "dtypes: float64(3), int64(7)\n",
      "memory usage: 12.3 KB\n"
     ]
    }
   ],
   "source": [
    "titanic['Embarked'] = titanic['Embarked'].fillna(2)\n",
    "titanic.info()"
   ]
  },
  {
   "cell_type": "code",
   "execution_count": 16,
   "id": "5f4cb180",
   "metadata": {
    "execution": {
     "iopub.execute_input": "2022-01-21T15:45:05.440567Z",
     "iopub.status.busy": "2022-01-21T15:45:05.439597Z",
     "iopub.status.idle": "2022-01-21T15:45:05.445184Z",
     "shell.execute_reply": "2022-01-21T15:45:05.445687Z",
     "shell.execute_reply.started": "2022-01-21T15:09:39.042373Z"
    },
    "papermill": {
     "duration": 0.034195,
     "end_time": "2022-01-21T15:45:05.445893",
     "exception": false,
     "start_time": "2022-01-21T15:45:05.411698",
     "status": "completed"
    },
    "tags": []
   },
   "outputs": [],
   "source": [
    "titanic['Age']=titanic['Age'].fillna(titanic['Age'].median())\n",
    "\n"
   ]
  },
  {
   "cell_type": "code",
   "execution_count": 17,
   "id": "3f34e53f",
   "metadata": {
    "execution": {
     "iopub.execute_input": "2022-01-21T15:45:05.499035Z",
     "iopub.status.busy": "2022-01-21T15:45:05.498416Z",
     "iopub.status.idle": "2022-01-21T15:45:05.501992Z",
     "shell.execute_reply": "2022-01-21T15:45:05.502476Z",
     "shell.execute_reply.started": "2022-01-21T15:09:49.310209Z"
    },
    "papermill": {
     "duration": 0.03452,
     "end_time": "2022-01-21T15:45:05.502642",
     "exception": false,
     "start_time": "2022-01-21T15:45:05.468122",
     "status": "completed"
    },
    "tags": []
   },
   "outputs": [
    {
     "data": {
      "text/plain": [
       "Survived      0\n",
       "Pclass        0\n",
       "Sex           0\n",
       "Age           0\n",
       "SibSp         0\n",
       "Parch         0\n",
       "Fare          0\n",
       "Embarked      0\n",
       "FamilySize    0\n",
       "Title         0\n",
       "dtype: int64"
      ]
     },
     "execution_count": 17,
     "metadata": {},
     "output_type": "execute_result"
    }
   ],
   "source": [
    "titanic.isnull().sum()"
   ]
  },
  {
   "cell_type": "code",
   "execution_count": 18,
   "id": "a705a729",
   "metadata": {
    "execution": {
     "iopub.execute_input": "2022-01-21T15:45:05.555299Z",
     "iopub.status.busy": "2022-01-21T15:45:05.554657Z",
     "iopub.status.idle": "2022-01-21T15:45:05.561376Z",
     "shell.execute_reply": "2022-01-21T15:45:05.561890Z",
     "shell.execute_reply.started": "2022-01-21T15:10:01.519633Z"
    },
    "papermill": {
     "duration": 0.033399,
     "end_time": "2022-01-21T15:45:05.562072",
     "exception": false,
     "start_time": "2022-01-21T15:45:05.528673",
     "status": "completed"
    },
    "tags": []
   },
   "outputs": [
    {
     "data": {
      "text/plain": [
       "Survived        int64\n",
       "Pclass          int64\n",
       "Sex             int64\n",
       "Age           float64\n",
       "SibSp           int64\n",
       "Parch           int64\n",
       "Fare          float64\n",
       "Embarked      float64\n",
       "FamilySize      int64\n",
       "Title           int64\n",
       "dtype: object"
      ]
     },
     "execution_count": 18,
     "metadata": {},
     "output_type": "execute_result"
    }
   ],
   "source": [
    "titanic.dtypes"
   ]
  },
  {
   "cell_type": "code",
   "execution_count": 19,
   "id": "89d70fe2",
   "metadata": {
    "execution": {
     "iopub.execute_input": "2022-01-21T15:45:05.612853Z",
     "iopub.status.busy": "2022-01-21T15:45:05.612245Z",
     "iopub.status.idle": "2022-01-21T15:45:05.624576Z",
     "shell.execute_reply": "2022-01-21T15:45:05.625104Z",
     "shell.execute_reply.started": "2022-01-21T15:10:16.567041Z"
    },
    "papermill": {
     "duration": 0.039561,
     "end_time": "2022-01-21T15:45:05.625282",
     "exception": false,
     "start_time": "2022-01-21T15:45:05.585721",
     "status": "completed"
    },
    "tags": []
   },
   "outputs": [
    {
     "data": {
      "text/html": [
       "<div>\n",
       "<style scoped>\n",
       "    .dataframe tbody tr th:only-of-type {\n",
       "        vertical-align: middle;\n",
       "    }\n",
       "\n",
       "    .dataframe tbody tr th {\n",
       "        vertical-align: top;\n",
       "    }\n",
       "\n",
       "    .dataframe thead th {\n",
       "        text-align: right;\n",
       "    }\n",
       "</style>\n",
       "<table border=\"1\" class=\"dataframe\">\n",
       "  <thead>\n",
       "    <tr style=\"text-align: right;\">\n",
       "      <th></th>\n",
       "      <th>Survived</th>\n",
       "      <th>Pclass</th>\n",
       "      <th>Sex</th>\n",
       "      <th>Age</th>\n",
       "      <th>SibSp</th>\n",
       "      <th>Parch</th>\n",
       "      <th>Fare</th>\n",
       "      <th>Embarked</th>\n",
       "      <th>FamilySize</th>\n",
       "      <th>Title</th>\n",
       "    </tr>\n",
       "  </thead>\n",
       "  <tbody>\n",
       "    <tr>\n",
       "      <th>0</th>\n",
       "      <td>0</td>\n",
       "      <td>3</td>\n",
       "      <td>0</td>\n",
       "      <td>22.0</td>\n",
       "      <td>1</td>\n",
       "      <td>0</td>\n",
       "      <td>7.2500</td>\n",
       "      <td>2.0</td>\n",
       "      <td>2</td>\n",
       "      <td>1</td>\n",
       "    </tr>\n",
       "    <tr>\n",
       "      <th>1</th>\n",
       "      <td>1</td>\n",
       "      <td>1</td>\n",
       "      <td>1</td>\n",
       "      <td>38.0</td>\n",
       "      <td>1</td>\n",
       "      <td>0</td>\n",
       "      <td>71.2833</td>\n",
       "      <td>0.0</td>\n",
       "      <td>2</td>\n",
       "      <td>2</td>\n",
       "    </tr>\n",
       "    <tr>\n",
       "      <th>2</th>\n",
       "      <td>1</td>\n",
       "      <td>3</td>\n",
       "      <td>1</td>\n",
       "      <td>26.0</td>\n",
       "      <td>0</td>\n",
       "      <td>0</td>\n",
       "      <td>7.9250</td>\n",
       "      <td>2.0</td>\n",
       "      <td>1</td>\n",
       "      <td>5</td>\n",
       "    </tr>\n",
       "    <tr>\n",
       "      <th>3</th>\n",
       "      <td>1</td>\n",
       "      <td>1</td>\n",
       "      <td>1</td>\n",
       "      <td>35.0</td>\n",
       "      <td>1</td>\n",
       "      <td>0</td>\n",
       "      <td>53.1000</td>\n",
       "      <td>2.0</td>\n",
       "      <td>2</td>\n",
       "      <td>2</td>\n",
       "    </tr>\n",
       "    <tr>\n",
       "      <th>4</th>\n",
       "      <td>0</td>\n",
       "      <td>3</td>\n",
       "      <td>0</td>\n",
       "      <td>35.0</td>\n",
       "      <td>0</td>\n",
       "      <td>0</td>\n",
       "      <td>8.0500</td>\n",
       "      <td>2.0</td>\n",
       "      <td>1</td>\n",
       "      <td>1</td>\n",
       "    </tr>\n",
       "  </tbody>\n",
       "</table>\n",
       "</div>"
      ],
      "text/plain": [
       "   Survived  Pclass  Sex   Age  SibSp  Parch     Fare  Embarked  FamilySize  \\\n",
       "0         0       3    0  22.0      1      0   7.2500       2.0           2   \n",
       "1         1       1    1  38.0      1      0  71.2833       0.0           2   \n",
       "2         1       3    1  26.0      0      0   7.9250       2.0           1   \n",
       "3         1       1    1  35.0      1      0  53.1000       2.0           2   \n",
       "4         0       3    0  35.0      0      0   8.0500       2.0           1   \n",
       "\n",
       "   Title  \n",
       "0      1  \n",
       "1      2  \n",
       "2      5  \n",
       "3      2  \n",
       "4      1  "
      ]
     },
     "execution_count": 19,
     "metadata": {},
     "output_type": "execute_result"
    }
   ],
   "source": [
    "titanic.head()"
   ]
  },
  {
   "cell_type": "code",
   "execution_count": 20,
   "id": "42d9ce66",
   "metadata": {
    "execution": {
     "iopub.execute_input": "2022-01-21T15:45:05.679429Z",
     "iopub.status.busy": "2022-01-21T15:45:05.678775Z",
     "iopub.status.idle": "2022-01-21T15:45:05.683687Z",
     "shell.execute_reply": "2022-01-21T15:45:05.684316Z"
    },
    "papermill": {
     "duration": 0.033365,
     "end_time": "2022-01-21T15:45:05.684554",
     "exception": false,
     "start_time": "2022-01-21T15:45:05.651189",
     "status": "completed"
    },
    "tags": []
   },
   "outputs": [],
   "source": [
    "X_train=titanic.iloc[:,1:10]\n",
    "Y_train=titanic.iloc[:,0]\n",
    "\n"
   ]
  },
  {
   "cell_type": "code",
   "execution_count": 21,
   "id": "ab09a20b",
   "metadata": {
    "execution": {
     "iopub.execute_input": "2022-01-21T15:45:05.742474Z",
     "iopub.status.busy": "2022-01-21T15:45:05.741810Z",
     "iopub.status.idle": "2022-01-21T15:45:07.113888Z",
     "shell.execute_reply": "2022-01-21T15:45:07.113240Z",
     "shell.execute_reply.started": "2022-01-21T15:19:29.824401Z"
    },
    "papermill": {
     "duration": 1.401714,
     "end_time": "2022-01-21T15:45:07.114041",
     "exception": false,
     "start_time": "2022-01-21T15:45:05.712327",
     "status": "completed"
    },
    "tags": []
   },
   "outputs": [],
   "source": [
    "# data analysis and wrangling\n",
    "import pandas as pd\n",
    "import numpy as np\n",
    "import random as rnd\n",
    "# machine learning\n",
    "from sklearn.linear_model import LogisticRegression\n",
    "from sklearn.svm import SVC, LinearSVC\n",
    "from sklearn.naive_bayes import GaussianNB\n",
    "from sklearn.tree import DecisionTreeClassifier\n",
    "from sklearn.ensemble import RandomForestClassifier"
   ]
  },
  {
   "cell_type": "code",
   "execution_count": 22,
   "id": "e0fd31dc",
   "metadata": {
    "execution": {
     "iopub.execute_input": "2022-01-21T15:45:07.174320Z",
     "iopub.status.busy": "2022-01-21T15:45:07.173607Z",
     "iopub.status.idle": "2022-01-21T15:45:07.182642Z",
     "shell.execute_reply": "2022-01-21T15:45:07.183168Z",
     "shell.execute_reply.started": "2022-01-21T15:19:32.091549Z"
    },
    "papermill": {
     "duration": 0.04267,
     "end_time": "2022-01-21T15:45:07.183345",
     "exception": false,
     "start_time": "2022-01-21T15:45:07.140675",
     "status": "completed"
    },
    "tags": []
   },
   "outputs": [],
   "source": [
    "# Decision Tree\n",
    "\n",
    "decision_tree = DecisionTreeClassifier(criterion = \"entropy\", max_depth=2, min_samples_leaf=5) \n",
    "decision_tree.fit(X_train, Y_train)\n",
    "Y_pred = decision_tree.predict(X_train)\n",
    "acc_decision_tree = round(decision_tree.score(X_train, Y_train) * 100, 2)\n"
   ]
  },
  {
   "cell_type": "code",
   "execution_count": 23,
   "id": "80a34a77",
   "metadata": {
    "execution": {
     "iopub.execute_input": "2022-01-21T15:45:07.239508Z",
     "iopub.status.busy": "2022-01-21T15:45:07.238888Z",
     "iopub.status.idle": "2022-01-21T15:45:07.241340Z",
     "shell.execute_reply": "2022-01-21T15:45:07.241922Z",
     "shell.execute_reply.started": "2022-01-21T15:19:38.098451Z"
    },
    "papermill": {
     "duration": 0.034698,
     "end_time": "2022-01-21T15:45:07.242093",
     "exception": false,
     "start_time": "2022-01-21T15:45:07.207395",
     "status": "completed"
    },
    "tags": []
   },
   "outputs": [
    {
     "data": {
      "text/plain": [
       "Survived        int64\n",
       "Pclass          int64\n",
       "Sex             int64\n",
       "Age           float64\n",
       "SibSp           int64\n",
       "Parch           int64\n",
       "Fare          float64\n",
       "Embarked      float64\n",
       "FamilySize      int64\n",
       "Title           int64\n",
       "dtype: object"
      ]
     },
     "execution_count": 23,
     "metadata": {},
     "output_type": "execute_result"
    }
   ],
   "source": [
    "titanic.dtypes"
   ]
  },
  {
   "cell_type": "code",
   "execution_count": 24,
   "id": "21c1bd58",
   "metadata": {
    "execution": {
     "iopub.execute_input": "2022-01-21T15:45:07.297114Z",
     "iopub.status.busy": "2022-01-21T15:45:07.296413Z",
     "iopub.status.idle": "2022-01-21T15:45:07.301702Z",
     "shell.execute_reply": "2022-01-21T15:45:07.302226Z",
     "shell.execute_reply.started": "2022-01-21T15:38:41.334337Z"
    },
    "papermill": {
     "duration": 0.034691,
     "end_time": "2022-01-21T15:45:07.302402",
     "exception": false,
     "start_time": "2022-01-21T15:45:07.267711",
     "status": "completed"
    },
    "tags": []
   },
   "outputs": [],
   "source": [
    "X_train=titanic.iloc[:,1:10]\n",
    "Y_train=titanic.iloc[:,0]\n",
    "\n"
   ]
  },
  {
   "cell_type": "code",
   "execution_count": 25,
   "id": "9fd4a7f9",
   "metadata": {
    "execution": {
     "iopub.execute_input": "2022-01-21T15:45:07.353669Z",
     "iopub.status.busy": "2022-01-21T15:45:07.353074Z",
     "iopub.status.idle": "2022-01-21T15:45:07.363546Z",
     "shell.execute_reply": "2022-01-21T15:45:07.364071Z",
     "shell.execute_reply.started": "2022-01-21T15:41:27.528968Z"
    },
    "papermill": {
     "duration": 0.03803,
     "end_time": "2022-01-21T15:45:07.364255",
     "exception": false,
     "start_time": "2022-01-21T15:45:07.326225",
     "status": "completed"
    },
    "tags": []
   },
   "outputs": [],
   "source": [
    "# Logistic Regression\n",
    "logreg = LogisticRegression(solver='liblinear')\n",
    "logreg.fit(X_train, Y_train)\n",
    "\n",
    "Y_pred = logreg.predict(X_train)\n",
    "\n",
    "acc_log = round(logreg.score(X_train, Y_train) * 100, 2)\n"
   ]
  },
  {
   "cell_type": "code",
   "execution_count": 26,
   "id": "09d4ada4",
   "metadata": {
    "execution": {
     "iopub.execute_input": "2022-01-21T15:45:07.416131Z",
     "iopub.status.busy": "2022-01-21T15:45:07.415442Z",
     "iopub.status.idle": "2022-01-21T15:45:07.437584Z",
     "shell.execute_reply": "2022-01-21T15:45:07.438199Z",
     "shell.execute_reply.started": "2022-01-21T15:41:33.673683Z"
    },
    "papermill": {
     "duration": 0.050743,
     "end_time": "2022-01-21T15:45:07.438381",
     "exception": false,
     "start_time": "2022-01-21T15:45:07.387638",
     "status": "completed"
    },
    "tags": []
   },
   "outputs": [
    {
     "name": "stderr",
     "output_type": "stream",
     "text": [
      "/opt/conda/lib/python3.7/site-packages/sklearn/svm/_base.py:977: ConvergenceWarning: Liblinear failed to converge, increase the number of iterations.\n",
      "  \"the number of iterations.\", ConvergenceWarning)\n"
     ]
    }
   ],
   "source": [
    "# Linear Support Vector Machine\n",
    "linear_svc = LinearSVC()\n",
    "linear_svc.fit(X_train, Y_train)\n",
    "\n",
    "Y_pred = linear_svc.predict(X_train)\n",
    "\n",
    "acc_linear_svc = round(linear_svc.score(X_train, Y_train) * 100, 2)\n"
   ]
  },
  {
   "cell_type": "code",
   "execution_count": 27,
   "id": "d9933184",
   "metadata": {
    "execution": {
     "iopub.execute_input": "2022-01-21T15:45:07.495965Z",
     "iopub.status.busy": "2022-01-21T15:45:07.495202Z",
     "iopub.status.idle": "2022-01-21T15:45:07.677604Z",
     "shell.execute_reply": "2022-01-21T15:45:07.678652Z",
     "shell.execute_reply.started": "2022-01-21T15:18:15.031705Z"
    },
    "papermill": {
     "duration": 0.21449,
     "end_time": "2022-01-21T15:45:07.678871",
     "exception": false,
     "start_time": "2022-01-21T15:45:07.464381",
     "status": "completed"
    },
    "tags": []
   },
   "outputs": [],
   "source": [
    "random_forest = RandomForestClassifier(n_estimators=100)\n",
    "random_forest.fit(X_train, Y_train)\n",
    "\n",
    "Y_prediction = random_forest.predict(X_train)\n",
    "\n",
    "random_forest.score(X_train, Y_train)\n",
    "acc_random_forest = round(random_forest.score(X_train, Y_train) * 100, 2)"
   ]
  },
  {
   "cell_type": "code",
   "execution_count": 28,
   "id": "6e5b1e30",
   "metadata": {
    "execution": {
     "iopub.execute_input": "2022-01-21T15:45:07.733637Z",
     "iopub.status.busy": "2022-01-21T15:45:07.731828Z",
     "iopub.status.idle": "2022-01-21T15:45:07.745529Z",
     "shell.execute_reply": "2022-01-21T15:45:07.746044Z",
     "shell.execute_reply.started": "2022-01-21T15:41:37.948766Z"
    },
    "papermill": {
     "duration": 0.041849,
     "end_time": "2022-01-21T15:45:07.746237",
     "exception": false,
     "start_time": "2022-01-21T15:45:07.704388",
     "status": "completed"
    },
    "tags": []
   },
   "outputs": [
    {
     "data": {
      "text/html": [
       "<div>\n",
       "<style scoped>\n",
       "    .dataframe tbody tr th:only-of-type {\n",
       "        vertical-align: middle;\n",
       "    }\n",
       "\n",
       "    .dataframe tbody tr th {\n",
       "        vertical-align: top;\n",
       "    }\n",
       "\n",
       "    .dataframe thead th {\n",
       "        text-align: right;\n",
       "    }\n",
       "</style>\n",
       "<table border=\"1\" class=\"dataframe\">\n",
       "  <thead>\n",
       "    <tr style=\"text-align: right;\">\n",
       "      <th></th>\n",
       "      <th>Model</th>\n",
       "    </tr>\n",
       "    <tr>\n",
       "      <th>Score</th>\n",
       "      <th></th>\n",
       "    </tr>\n",
       "  </thead>\n",
       "  <tbody>\n",
       "    <tr>\n",
       "      <th>100.00</th>\n",
       "      <td>Random Forest</td>\n",
       "    </tr>\n",
       "    <tr>\n",
       "      <th>83.97</th>\n",
       "      <td>Logistic Regression</td>\n",
       "    </tr>\n",
       "    <tr>\n",
       "      <th>80.77</th>\n",
       "      <td>Decision Tree</td>\n",
       "    </tr>\n",
       "    <tr>\n",
       "      <th>75.64</th>\n",
       "      <td>Support Vector Machines</td>\n",
       "    </tr>\n",
       "  </tbody>\n",
       "</table>\n",
       "</div>"
      ],
      "text/plain": [
       "                          Model\n",
       "Score                          \n",
       "100.00            Random Forest\n",
       "83.97       Logistic Regression\n",
       "80.77             Decision Tree\n",
       "75.64   Support Vector Machines"
      ]
     },
     "execution_count": 28,
     "metadata": {},
     "output_type": "execute_result"
    }
   ],
   "source": [
    "results = pd.DataFrame({\n",
    "    'Model': ['Decision Tree', 'Logistic Regression','Support Vector Machines','Random Forest'],\n",
    "    'Score': [acc_decision_tree,acc_log,acc_linear_svc,acc_random_forest]})\n",
    "result_df = results.sort_values(by='Score', ascending=False)\n",
    "result_df = result_df.set_index('Score')\n",
    "result_df.head(9)"
   ]
  },
  {
   "cell_type": "code",
   "execution_count": 29,
   "id": "c05c9945",
   "metadata": {
    "execution": {
     "iopub.execute_input": "2022-01-21T15:45:07.820466Z",
     "iopub.status.busy": "2022-01-21T15:45:07.812659Z",
     "iopub.status.idle": "2022-01-21T15:45:07.822969Z",
     "shell.execute_reply": "2022-01-21T15:45:07.823478Z",
     "shell.execute_reply.started": "2022-01-21T15:42:00.322822Z"
    },
    "papermill": {
     "duration": 0.050814,
     "end_time": "2022-01-21T15:45:07.823653",
     "exception": false,
     "start_time": "2022-01-21T15:45:07.772839",
     "status": "completed"
    },
    "tags": []
   },
   "outputs": [
    {
     "data": {
      "text/html": [
       "<div>\n",
       "<style scoped>\n",
       "    .dataframe tbody tr th:only-of-type {\n",
       "        vertical-align: middle;\n",
       "    }\n",
       "\n",
       "    .dataframe tbody tr th {\n",
       "        vertical-align: top;\n",
       "    }\n",
       "\n",
       "    .dataframe thead th {\n",
       "        text-align: right;\n",
       "    }\n",
       "</style>\n",
       "<table border=\"1\" class=\"dataframe\">\n",
       "  <thead>\n",
       "    <tr style=\"text-align: right;\">\n",
       "      <th></th>\n",
       "      <th>importance</th>\n",
       "    </tr>\n",
       "    <tr>\n",
       "      <th>feature</th>\n",
       "      <th></th>\n",
       "    </tr>\n",
       "  </thead>\n",
       "  <tbody>\n",
       "    <tr>\n",
       "      <th>Fare</th>\n",
       "      <td>0.239</td>\n",
       "    </tr>\n",
       "    <tr>\n",
       "      <th>Sex</th>\n",
       "      <td>0.199</td>\n",
       "    </tr>\n",
       "    <tr>\n",
       "      <th>Age</th>\n",
       "      <td>0.195</td>\n",
       "    </tr>\n",
       "    <tr>\n",
       "      <th>Title</th>\n",
       "      <td>0.161</td>\n",
       "    </tr>\n",
       "    <tr>\n",
       "      <th>Pclass</th>\n",
       "      <td>0.053</td>\n",
       "    </tr>\n",
       "    <tr>\n",
       "      <th>SibSp</th>\n",
       "      <td>0.050</td>\n",
       "    </tr>\n",
       "    <tr>\n",
       "      <th>FamilySize</th>\n",
       "      <td>0.046</td>\n",
       "    </tr>\n",
       "    <tr>\n",
       "      <th>Embarked</th>\n",
       "      <td>0.040</td>\n",
       "    </tr>\n",
       "    <tr>\n",
       "      <th>Parch</th>\n",
       "      <td>0.016</td>\n",
       "    </tr>\n",
       "  </tbody>\n",
       "</table>\n",
       "</div>"
      ],
      "text/plain": [
       "            importance\n",
       "feature               \n",
       "Fare             0.239\n",
       "Sex              0.199\n",
       "Age              0.195\n",
       "Title            0.161\n",
       "Pclass           0.053\n",
       "SibSp            0.050\n",
       "FamilySize       0.046\n",
       "Embarked         0.040\n",
       "Parch            0.016"
      ]
     },
     "execution_count": 29,
     "metadata": {},
     "output_type": "execute_result"
    }
   ],
   "source": [
    "importances = pd.DataFrame({'feature':X_train.columns,'importance':np.round(random_forest.feature_importances_,3)})\n",
    "importances = importances.sort_values('importance',ascending=False).set_index('feature')\n",
    "importances.head(15)"
   ]
  },
  {
   "cell_type": "code",
   "execution_count": 30,
   "id": "5e4d2d4d",
   "metadata": {
    "execution": {
     "iopub.execute_input": "2022-01-21T15:45:07.885302Z",
     "iopub.status.busy": "2022-01-21T15:45:07.884583Z",
     "iopub.status.idle": "2022-01-21T15:45:07.886772Z",
     "shell.execute_reply": "2022-01-21T15:45:07.888141Z",
     "shell.execute_reply.started": "2022-01-21T15:42:18.370232Z"
    },
    "papermill": {
     "duration": 0.036986,
     "end_time": "2022-01-21T15:45:07.888386",
     "exception": false,
     "start_time": "2022-01-21T15:45:07.851400",
     "status": "completed"
    },
    "tags": []
   },
   "outputs": [],
   "source": [
    "# AdaBoost Classification\n",
    "from sklearn import model_selection\n",
    "from sklearn.ensemble import AdaBoostClassifier"
   ]
  },
  {
   "cell_type": "code",
   "execution_count": 31,
   "id": "dbee037f",
   "metadata": {
    "execution": {
     "iopub.execute_input": "2022-01-21T15:45:07.947067Z",
     "iopub.status.busy": "2022-01-21T15:45:07.945603Z",
     "iopub.status.idle": "2022-01-21T15:45:08.488670Z",
     "shell.execute_reply": "2022-01-21T15:45:08.489368Z",
     "shell.execute_reply.started": "2022-01-21T15:42:32.590062Z"
    },
    "papermill": {
     "duration": 0.57348,
     "end_time": "2022-01-21T15:45:08.489619",
     "exception": false,
     "start_time": "2022-01-21T15:45:07.916139",
     "status": "completed"
    },
    "tags": []
   },
   "outputs": [
    {
     "name": "stderr",
     "output_type": "stream",
     "text": [
      "/opt/conda/lib/python3.7/site-packages/sklearn/model_selection/_split.py:297: FutureWarning: Setting a random_state has no effect since shuffle is False. This will raise an error in 0.24. You should leave random_state to its default (None), or set shuffle=True.\n",
      "  FutureWarning\n"
     ]
    },
    {
     "name": "stdout",
     "output_type": "stream",
     "text": [
      "[0.6875     0.75       0.75       0.75       0.8125     0.8125\n",
      " 0.8        0.66666667 0.73333333 0.73333333]\n",
      "max:  0.8125\n",
      "min:  0.6666666666666666\n",
      "mean:  0.7495833333333334\n",
      "Accuracy: 0.75 (+/- 0.09)\n"
     ]
    }
   ],
   "source": [
    "seed = 7\n",
    "num_trees = 30\n",
    "\n",
    "kfold = model_selection.KFold(n_splits=10, random_state=seed)\n",
    "# create the sub models\n",
    "estimators = []\n",
    "\n",
    "model1 = LogisticRegression()\n",
    "estimators.append(('logreg', model1))\n",
    "\n",
    "model2 = DecisionTreeClassifier()\n",
    "estimators.append(('decision_tree', model2))\n",
    "\n",
    "model3 = LinearSVC()\n",
    "estimators.append(('linear_svc', model3))\n",
    "\n",
    "model4 = RandomForestClassifier()\n",
    "estimators.append(('random_forest',model4))\n",
    "\n",
    "# create the ensemble model\n",
    "ensemble = AdaBoostClassifier(n_estimators=num_trees, random_state=seed)\n",
    "results = model_selection.cross_val_score(ensemble, X_train, Y_train, cv=kfold)\n",
    "\n",
    "print(results)\n",
    "print(\"max: \", results.max())\n",
    "print(\"min: \", results.min())\n",
    "print(\"mean: \", results.mean())\n",
    "\n",
    "# We get a mean estimate of classification accuracy.\n",
    "print(\"Accuracy: %0.2f (+/- %0.2f)\" % (results.mean(), results.std() * 2))"
   ]
  },
  {
   "cell_type": "code",
   "execution_count": null,
   "id": "0d5a15c6",
   "metadata": {
    "papermill": {
     "duration": 0.028063,
     "end_time": "2022-01-21T15:45:08.543619",
     "exception": false,
     "start_time": "2022-01-21T15:45:08.515556",
     "status": "completed"
    },
    "tags": []
   },
   "outputs": [],
   "source": []
  }
 ],
 "metadata": {
  "kernelspec": {
   "display_name": "Python 3",
   "language": "python",
   "name": "python3"
  },
  "language_info": {
   "codemirror_mode": {
    "name": "ipython",
    "version": 3
   },
   "file_extension": ".py",
   "mimetype": "text/x-python",
   "name": "python",
   "nbconvert_exporter": "python",
   "pygments_lexer": "ipython3",
   "version": "3.7.12"
  },
  "papermill": {
   "default_parameters": {},
   "duration": 14.719733,
   "end_time": "2022-01-21T15:45:09.381442",
   "environment_variables": {},
   "exception": null,
   "input_path": "__notebook__.ipynb",
   "output_path": "__notebook__.ipynb",
   "parameters": {},
   "start_time": "2022-01-21T15:44:54.661709",
   "version": "2.3.3"
  }
 },
 "nbformat": 4,
 "nbformat_minor": 5
}
